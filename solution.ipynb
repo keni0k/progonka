{
 "cells": [
  {
   "cell_type": "markdown",
   "metadata": {
    "collapsed": false
   },
   "source": [
    "# Метод подгонки"
   ]
  },
  {
   "cell_type": "markdown",
   "metadata": {
    "collapsed": false
   },
   "source": [
    "## Вспомогательные функции"
   ]
  },
  {
   "cell_type": "code",
   "execution_count": 1,
   "metadata": {
    "collapsed": false
   },
   "outputs": [
   ],
   "source": [
    "from typing import List"
   ]
  },
  {
   "cell_type": "code",
   "execution_count": 2,
   "metadata": {
    "collapsed": false
   },
   "outputs": [
   ],
   "source": [
    "\"\"\"\n",
    " Считает вектор x на основе диагоналей 3-диагональной матрицы и вектора f\n",
    " param under_diag  диагональ, лежащая под главной (нумеруется: [0; n - 2])\n",
    " param above_diag  диагональ, лежащая над главной (нумеруется: [0; n - 2])\n",
    " param main_diag   главная диагональ матрицы      (нумеруется: [0; n - 1])\n",
    " param f           вектор f (права часть)\n",
    " return            решение СЛАУ, массив x\n",
    "\"\"\"\n",
    "def calculate_progonkoj(under_diag: List[float], above_diag: List[float], main_diag: List[float], f: List[float]) -> List[float]:\n",
    "    under_diag, above_diag, main_diag, f = map(tuple, (under_diag, above_diag, main_diag, f))\n",
    "    n = len(f)\n",
    "    assert(n == len(main_diag))\n",
    "    assert(n == len(above_diag) + 1)\n",
    "    assert(n == len(under_diag) + 1)\n",
    "\n",
    "    alpha = [-above_diag[0] / main_diag[0]]\n",
    "    beta = [f[0] / main_diag[0]]\n",
    "    x = [0] * n\n",
    "\n",
    "    for i in range(1, n - 1):\n",
    "        alpha.append(-above_diag[i] / (under_diag[i - 1] * alpha[i - 1] + main_diag[i]))\n",
    "        beta.append((f[i] - under_diag[i - 1] * beta[i - 1]) / (under_diag[i - 1] * alpha[i - 1] + main_diag[i]))\n",
    "\n",
    "    # x[last] = last beta\n",
    "    x[n - 1] = (f[n - 1] - under_diag[n - 2] * beta[n - 2]) / (under_diag[n - 2] * alpha[n - 2] + main_diag[n - 1])\n",
    "\n",
    "    for i in range(n - 1, 0, -1):\n",
    "        x[i - 1] = alpha[i - 1] * x[i] + beta[i - 1]\n",
    "\n",
    "    return x"
   ]
  },
  {
   "cell_type": "code",
   "execution_count": 3,
   "metadata": {
    "collapsed": false
   },
   "outputs": [
   ],
   "source": [
    "\"\"\"\n",
    " Считает вектор x на основе 3-диагональной матрицы matr и вектора f\n",
    " param matr   3-диагональная матрица\n",
    " param f      вектор f (права часть)\n",
    " return       решение СЛАУ, массив x\n",
    "\"\"\"\n",
    "def progonka(matr: List[List[float]], f: List[float]) -> List[float]:\n",
    "    n = len(matr)\n",
    "    assert n > 0\n",
    "    if n == 1:\n",
    "        return [f[0] / matr[0][0]]\n",
    "    assert(len(matr[0]) == n)\n",
    "    above_diag, under_diag, main_diag = [matr[0][1]], [], [matr[0][0]]\n",
    "    for i, row in enumerate(matr[1:-1]):\n",
    "        assert(len(row) == n)\n",
    "        main_diag.append(row[i + 1])\n",
    "        above_diag.append(row[i + 2])\n",
    "        under_diag.append(row[i])\n",
    "    main_diag.append(matr[-1][-1])\n",
    "    under_diag.append(matr[-1][-2])\n",
    "    return calculate_progonkoj(under_diag, above_diag, main_diag, f)"
   ]
  },
  {
   "cell_type": "code",
   "execution_count": 4,
   "metadata": {
    "collapsed": false
   },
   "outputs": [
   ],
   "source": [
    "\"\"\"\n",
    " Функция выводит матрицу matr, вектор x и вектор f в выражении matr * x = f в читаемом виде\n",
    " param matr   матрица\n",
    " param x      вектор x\n",
    " param f      вектор f (права часть)\n",
    " return       решение СЛАУ, массив x\n",
    "\"\"\"\n",
    "def print_result(matr, f, x):\n",
    "    n = len(f)\n",
    "    two_signs_round = lambda x: round(x, 2)\n",
    "    custom_format = lambda x, num: ' ' * (num - len(str(x))) + str(x)\n",
    "    custom_format_3 = lambda x: custom_format(x, 3)\n",
    "    x_round = tuple(map(two_signs_round, x))\n",
    "    for i in range(n):\n",
    "        print('|', end = '')\n",
    "        print(''.join(map(custom_format_3, matr[i]\n",
    ")), end = '')\n",
    "        print('| * |' if i == n // 2 else '|   |', end = '')\n",
    "        print(custom_format(x_round[i], 5), end = '')\n",
    "        print('| = |' if i == n // 2 else '|   |', end = '')\n",
    "        print(custom_format(f[i], 1), end = '|\\n')\n",
    "    print()"
   ]
  },
  {
   "cell_type": "markdown",
   "metadata": {
    "collapsed": false
   },
   "source": [
    "## TEST"
   ]
  },
  {
   "cell_type": "code",
   "execution_count": 5,
   "metadata": {
    "collapsed": false
   },
   "outputs": [
    {
     "name": "stdout",
     "output_type": "stream",
     "text": [
      "|  3| * |  2.0| = |6|\n",
      "\n",
      "|  1  1|   |  0.0|   |3|\n",
      "|0.2  1| * |  3.0| = |3|\n",
      "\n",
      "|  2 -1  0|   | 1.49|   |3|\n",
      "|  5  4  2| * |-0.02| = |6|\n",
      "|  0  1 -3|   |-0.67|   |2|\n",
      "\n",
      "|  2  1  0  0|   | -3.0|   |-5|\n",
      "|  1 10 -5  0|   |  1.0|   |-18|\n",
      "|  0  1 -5  2| * |  5.0| = |-40|\n",
      "|  0  0  1  4|   | -8.0|   |-27|\n",
      "\n"
     ]
    }
   ],
   "source": [
    "test = dict()\n",
    "test['matr'] = [\n",
    "    [\n",
    "        [3]\n",
    "    ],\n",
    "    [\n",
    "        [ 1, 1],\n",
    "        [.2, 1]\n",
    "    ],\n",
    "    [\n",
    "        [2, -1,  0],\n",
    "        [5,  4,  2],\n",
    "        [0,  1, -3]\n",
    "    ],\n",
    "    [\n",
    "        [2, 1, 0, 0],\n",
    "        [1, 10, -5, 0],\n",
    "        [0, 1, -5, 2],\n",
    "        [0, 0, 1, 4]\n",
    "    ]\n",
    "]\n",
    "test['f'] = [\n",
    "    [6],\n",
    "    [3, 3],\n",
    "    [3, 6, 2],\n",
    "    [-5, -18, -40, -27]\n",
    "]\n",
    "\n",
    "for i in range(len(test['matr'])):\n",
    "    matr = test['matr'][i]\n",
    "    f = test['f'][i]\n",
    "    x = progonka(matr, f)\n",
    "    print_result(matr, f, x)"
   ]
  },
  {
   "cell_type": "code",
   "execution_count": 0,
   "metadata": {
    "collapsed": false
   },
   "outputs": [
   ],
   "source": [
   ]
  }
 ],
 "metadata": {
  "kernelspec": {
   "display_name": "Python 3 (system-wide)",
   "language": "python",
   "metadata": {
    "cocalc": {
     "description": "Python 3 programming language",
     "priority": 100,
     "url": "https://www.python.org/"
    }
   },
   "name": "python3",
   "resource_dir": "/ext/jupyter/kernels/python3"
  },
  "language_info": {
   "codemirror_mode": {
    "name": "ipython",
    "version": 3
   },
   "file_extension": ".py",
   "mimetype": "text/x-python",
   "name": "python",
   "nbconvert_exporter": "python",
   "pygments_lexer": "ipython3",
   "version": "3.8.5"
  }
 },
 "nbformat": 4,
 "nbformat_minor": 4
}